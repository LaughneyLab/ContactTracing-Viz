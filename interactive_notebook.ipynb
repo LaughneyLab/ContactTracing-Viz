{
 "cells": [
  {
   "cell_type": "markdown",
   "source": [
    "# Interactive ContactTracing Visualization\n",
    "\n",
    "This repository contains the source code for the interactive visualization of the CIN-TME results of ContactTracing (https://contacttracing.laughneylab.com). This notebook demonstrates how to apply similar visualization to your own data.\n",
    "\n",
    "This notebook assumes you have followed the tutorial on the main ContactTracing repository (https://github.com/LaughneyLab/ContactTracing_tutorial). If you have not, please do so before continuing."
   ],
   "metadata": {
    "collapsed": false
   }
  },
  {
   "cell_type": "markdown",
   "source": [
    "## 1. Load the data and set options\n",
    "Replace the variables with your own settings.\n",
    "\n",
    "Additionally, running locally requires the following additional packages not included in the environment.yml but can be installed as follows:"
   ],
   "metadata": {
    "collapsed": false
   }
  },
  {
   "cell_type": "code",
   "execution_count": 1,
   "outputs": [],
   "source": [
    "!conda install -c conda-forge -y multiprocess dill psutil diskcache"
   ],
   "metadata": {
    "collapsed": false,
    "ExecuteTime": {
     "end_time": "2023-07-24T20:53:49.966896Z",
     "start_time": "2023-07-24T20:53:49.804412Z"
    }
   }
  },
  {
   "cell_type": "markdown",
   "source": [
    "These are the data paths. Note that the tutorial does not by default save the `target_stats` dataframe nor does it save the `deg` anndata object. So you will need to manually add a cell at the end of the notebook to save it to a file. Example:\n",
    "\n",
    "```python\n",
    "target_stats.to_csv(\"target_stats.txt\", sep=\"\\t\")\n",
    "deg.write_h5ad(\"deg.h5ad\")\n",
    "```"
   ],
   "metadata": {
    "collapsed": false
   }
  },
  {
   "cell_type": "code",
   "execution_count": 1,
   "outputs": [],
   "source": [
    "interactions_path = \"tutorial_output/interactions_mm10.txt\"  # The path to the interaction definitions file of your ContactTracing run\n",
    "ct_results_path = \"tutorial_output/diffComp.h5ad\"  # The path to the results of your ContactTracing run\n",
    "target_stats_path = \"tutorial_output/target_stats.txt\"  # The path to the target stats file of your ContactTracing run\n",
    "deg_path = \"tutorial_output/deg.h5ad\"  # The path to the deg file of your ContactTracing run\n"
   ],
   "metadata": {
    "collapsed": false,
    "ExecuteTime": {
     "end_time": "2023-07-25T15:58:01.543805Z",
     "start_time": "2023-07-25T15:58:01.541094Z"
    }
   }
  },
  {
   "cell_type": "code",
   "execution_count": 2,
   "outputs": [
    {
     "data": {
      "text/plain": "AnnData object with n_obs × n_vars = 2848 × 4724 backed at 'tutorial_output/diffComp.h5ad'\n    obs: 'cell type', 'target', 'fracExp'\n    layers: 'fdr', 'lfc', 'pval', 'score'"
     },
     "execution_count": 2,
     "metadata": {},
     "output_type": "execute_result"
    }
   ],
   "source": [
    "import scanpy as sc\n",
    "import pandas as pd\n",
    "# Add our code to path\n",
    "import sys\n",
    "sys.path.append(\".\")\n",
    "\n",
    "interactions = pd.read_csv(interactions_path, sep=\"\\t\")\n",
    "target_stats = pd.read_csv(target_stats_path, sep=\",\")\n",
    "deg = sc.read_h5ad(deg_path, backed='r')  # Remove backed='r' if you want to use more memory, but have increased speed\n",
    "ct_results = sc.read_h5ad(ct_results_path, backed='r')\n",
    "ct_results"
   ],
   "metadata": {
    "collapsed": false,
    "ExecuteTime": {
     "end_time": "2023-07-25T15:58:03.548489Z",
     "start_time": "2023-07-25T15:58:02.710161Z"
    }
   }
  },
  {
   "cell_type": "markdown",
   "source": [
    "# 2. Run the visualization\n",
    "This visualization is run as a miniature version of the official web interface in the backend using Plotly Dash's built-in Jupyter support. For details about Jupyter compatibility, see https://dash.plotly.com/dash-in-jupyter.\n",
    "\n",
    "When run, it will pre-compile optimized versions of the data to the `data/compiled` folder. Then it will launch the web page with a link printed to the console."
   ],
   "metadata": {
    "collapsed": false
   }
  },
  {
   "cell_type": "code",
   "execution_count": 4,
   "outputs": [
    {
     "name": "stdout",
     "output_type": "stream",
     "text": [
      "Compiling the provided dataset...This may take awhile.\n",
      "Compiling FDR 25\n",
      "Compiling FDR 24\n",
      "Compiling FDR 23\n",
      "Compiling FDR 22\n",
      "Compiling FDR 21\n",
      "Compiling FDR 20\n",
      "Compiling FDR 19\n",
      "Compiling FDR 18\n",
      "Compiling FDR 17\n",
      "Compiling FDR 16\n",
      "Compiling FDR 15\n",
      "Compiling FDR 14\n",
      "Compiling FDR 13\n",
      "Compiling FDR 12\n",
      "Compiling FDR 11\n",
      "Compiling FDR 10\n",
      "Compiling FDR 09\n",
      "Compiling FDR 08\n",
      "Compiling FDR 07\n",
      "Compiling FDR 06\n",
      "Compiling FDR 05\n",
      "Compiling FDR 04\n",
      "Compiling FDR 03\n",
      "Compiling FDR 02\n",
      "Compiling FDR 01\n"
     ]
    },
    {
     "name": "stderr",
     "output_type": "stream",
     "text": [
      "WARNING: Celery not available, falling back to diskcache\n"
     ]
    },
    {
     "name": "stdout",
     "output_type": "stream",
     "text": [
      "Dash app running on http://127.0.0.1:8123/\n"
     ]
    }
   ],
   "source": [
    "from jupyter_support import run_app_in_jupyter\n",
    "# Start the app\n",
    "run_app_in_jupyter(\n",
    "    interactions=interactions,\n",
    "    adata=ct_results,\n",
    "    deg_adata=deg,\n",
    "    target_stats=target_stats,\n",
    "    condition_name='highCIN_vs_lowCIN',\n",
    "    skip_compile=False,  # Set to True if you have already compiled the data and did not make any changes\n",
    "    port=8123,\n",
    ")"
   ],
   "metadata": {
    "collapsed": false,
    "ExecuteTime": {
     "end_time": "2023-07-25T15:59:48.339603Z",
     "start_time": "2023-07-25T15:58:05.309170Z"
    }
   }
  },
  {
   "cell_type": "code",
   "execution_count": null,
   "outputs": [],
   "source": [
    "# When you are done, cleanup the generated files.\n",
    "# WARNING: If you do not do this, results may not be updated!\n",
    "import shutil\n",
    "shutil.rmtree('data/compiled')"
   ],
   "metadata": {
    "collapsed": false,
    "ExecuteTime": {
     "start_time": "2023-07-24T20:53:50.866585Z"
    }
   }
  }
 ],
 "metadata": {
  "kernelspec": {
   "display_name": "Python 3",
   "language": "python",
   "name": "python3"
  },
  "language_info": {
   "codemirror_mode": {
    "name": "ipython",
    "version": 2
   },
   "file_extension": ".py",
   "mimetype": "text/x-python",
   "name": "python",
   "nbconvert_exporter": "python",
   "pygments_lexer": "ipython2",
   "version": "2.7.6"
  }
 },
 "nbformat": 4,
 "nbformat_minor": 0
}
